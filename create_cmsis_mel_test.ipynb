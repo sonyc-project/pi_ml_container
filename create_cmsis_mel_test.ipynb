{
 "cells": [
  {
   "cell_type": "code",
   "execution_count": 1,
   "metadata": {},
   "outputs": [
    {
     "name": "stderr",
     "output_type": "stream",
     "text": [
      "Using TensorFlow backend.\n"
     ]
    }
   ],
   "source": [
    "import glob\n",
    "import os\n",
    "import numpy as np\n",
    "from keras.models import load_model\n",
    "import tensorflow as tf\n",
    "from tqdm import tqdm"
   ]
  },
  {
   "cell_type": "code",
   "execution_count": 2,
   "metadata": {},
   "outputs": [
    {
     "name": "stdout",
     "output_type": "stream",
     "text": [
      "test\n",
      "raw_audio shape (before reshape): (10, 91, 8000)\n",
      "raw_audio shape (after reshape): (910, 8000)\n"
     ]
    }
   ],
   "source": [
    "# Select 10 data files\n",
    "ust_subfolder = input()\n",
    "test_data = glob.glob('/beegfs/dr2915/sonyc_ust/db_mels/' + ust_subfolder + '/*.npz')\n",
    "\n",
    "random_test_file_indices = np.random.randint(len(test_data), size = 10)\n",
    "\n",
    "raw_audio = []\n",
    "cmsis_mels = []\n",
    "for index in random_test_file_indices:\n",
    "    cmsis_mels.append(np.load(test_data[index])['db_mels'])\n",
    "    raw_audio.append(np.load(os.path.join('/beegfs/dr2915/sonyc_ust/frames/8KHz',\n",
    "                                          os.path.basename(test_data[index])))['audio'])\n",
    "\n",
    "raw_audio = np.array(raw_audio)\n",
    "print(\"raw_audio shape (before reshape): {}\".format(raw_audio.shape))\n",
    "raw_audio = raw_audio.reshape(-1, 8000)\n",
    "print(\"raw_audio shape (after reshape): {}\".format(raw_audio.shape))"
   ]
  },
  {
   "cell_type": "code",
   "execution_count": 3,
   "metadata": {},
   "outputs": [],
   "source": [
    "# Prepare input for Keras model\n",
    "cmsis_mels = np.array(cmsis_mels).reshape(-1, 64, 51)[:,:,:,np.newaxis]\n",
    "\n",
    "# Prepare input for TFLite model\n",
    "*cmsis_mels_unstacked, = cmsis_mels[:,np.newaxis,:,:]"
   ]
  },
  {
   "cell_type": "code",
   "execution_count": 4,
   "metadata": {},
   "outputs": [
    {
     "name": "stderr",
     "output_type": "stream",
     "text": [
      "/home/Roy.174/.local/lib/python3.6/site-packages/keras/engine/saving.py:341: UserWarning: No training configuration found in save file: the model was *not* compiled. Compile it manually.\n",
      "  warnings.warn('No training configuration found in save file: '\n"
     ]
    }
   ],
   "source": [
    "# Load Keras model\n",
    "keras_model = load_model('/scratch/dr2915/Nathan/pipeline_cmsis_mels.h5')\n",
    "\n",
    "# Keras softmaxes\n",
    "keras_softmax = keras_model.predict(cmsis_mels)"
   ]
  },
  {
   "cell_type": "code",
   "execution_count": 5,
   "metadata": {},
   "outputs": [
    {
     "name": "stderr",
     "output_type": "stream",
     "text": [
      "100%|██████████| 910/910 [07:04<00:00,  2.15it/s]\n"
     ]
    }
   ],
   "source": [
    "# Load TFLite model\n",
    "tflite_model = tf.lite.Interpreter(model_path=\"/scratch/sk7898/quantization/\"\n",
    "                                   \"pipeline_cmsis_mels/tf_2_full_quantized_default_float32.tflite\")\n",
    "tflite_model.allocate_tensors()\n",
    "input_details = tflite_model.get_input_details()\n",
    "output_details = tflite_model.get_output_details()\n",
    "\n",
    "# TFLite softmaxes\n",
    "tflite_softmax = []\n",
    "for mel in tqdm(cmsis_mels_unstacked):\n",
    "    tflite_model.set_tensor(input_details[0]['index'], mel)\n",
    "    tflite_model.invoke()\n",
    "    tflite_softmax.append(tflite_model.get_tensor(output_details[0]['index']))\n",
    "    \n",
    "tflite_softmax = np.array(tflite_softmax).reshape(-1, 8)"
   ]
  },
  {
   "cell_type": "code",
   "execution_count": 6,
   "metadata": {},
   "outputs": [],
   "source": [
    "# Save test data and softmaxes\n",
    "np.savez_compressed('cmsis_mel_' + ust_subfolder, \n",
    "                    raw_audio=raw_audio, cmsis_db_mels=cmsis_mels, \n",
    "                    keras_softmax=keras_softmax, tflite_softmax=tflite_softmax)"
   ]
  },
  {
   "cell_type": "code",
   "execution_count": 7,
   "metadata": {},
   "outputs": [
    {
     "name": "stdout",
     "output_type": "stream",
     "text": [
      "Number of TFLite predictions that match with Keras: 848/910\n"
     ]
    }
   ],
   "source": [
    "# Load npz and get the number of compatible TFLite predictions\n",
    "cmsis_mel_test = np.load('cmsis_mel_' + ust_subfolder + '.npz')\n",
    "\n",
    "tflite_softmax_from_npz = cmsis_mel_test['tflite_softmax']\n",
    "keras_softmax_from_npz = cmsis_mel_test['keras_softmax']\n",
    "\n",
    "print(\"Number of TFLite predictions that match with Keras: {}/{}\"\n",
    "      .format(np.sum(np.argmax(tflite_softmax_from_npz, axis=-1)\n",
    "                     ==np.argmax(keras_softmax_from_npz, axis=-1)), len(keras_softmax_from_npz)))"
   ]
  }
 ],
 "metadata": {
  "kernelspec": {
   "display_name": "Python 3",
   "language": "python",
   "name": "python3"
  },
  "language_info": {
   "codemirror_mode": {
    "name": "ipython",
    "version": 3
   },
   "file_extension": ".py",
   "mimetype": "text/x-python",
   "name": "python",
   "nbconvert_exporter": "python",
   "pygments_lexer": "ipython3",
   "version": "3.6.7"
  }
 },
 "nbformat": 4,
 "nbformat_minor": 4
}
